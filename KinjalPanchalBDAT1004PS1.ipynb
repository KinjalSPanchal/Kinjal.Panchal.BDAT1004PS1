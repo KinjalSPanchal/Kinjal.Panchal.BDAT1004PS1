{
 "cells": [
  {
   "cell_type": "markdown",
   "id": "669be7e9",
   "metadata": {},
   "source": [
    "Que:1 What data type is each of the following (evaluate where necessary)?"
   ]
  },
  {
   "cell_type": "code",
   "execution_count": 1,
   "id": "e7923a99",
   "metadata": {},
   "outputs": [
    {
     "name": "stdout",
     "output_type": "stream",
     "text": [
      "<class 'int'>\n",
      "<class 'float'>\n",
      "<class 'bool'>\n",
      "True\n",
      "<class 'str'>\n",
      "<class 'int'>\n",
      "10\n",
      "<class 'str'>\n",
      "55\n",
      "<class 'str'>\n",
      "52\n",
      "<class 'float'>\n",
      "2.5\n",
      "<class 'int'>\n",
      "1\n",
      "<class 'set'>\n",
      "{1, 2, 5}\n",
      "<class 'bool'>\n",
      "False\n",
      "<class 'float'>\n",
      "3.141592653589793\n"
     ]
    }
   ],
   "source": [
    "5\n",
    "print(type(5))\n",
    "\n",
    "5.0\n",
    "print(type(5.0))\n",
    "\n",
    "5 > 1\n",
    "print(type(5 > 1))\n",
    "print(5 > 1)\n",
    "\n",
    "'5'\n",
    "print(type('5'))\n",
    "\n",
    "5 * 2\n",
    "print(type(5 * 2))\n",
    "print(5 * 2)\n",
    "\n",
    "'5' * 2\n",
    "print(type('5' * 2 ))\n",
    "print('5' * 2)\n",
    "\n",
    "'5' + '2'\n",
    "print(type('5' + '2'))\n",
    "print('5' + '2')\n",
    "\n",
    "5 / 2\n",
    "print(type(5 / 2))\n",
    "print( 5 / 2)\n",
    "\n",
    "5 % 2\n",
    "print(type(5 % 2))\n",
    "print(5 % 2)\n",
    "\n",
    "{5, 2, 1}\n",
    "print(type({5, 2, 1}))\n",
    "print({5, 2, 1})\n",
    "\n",
    "5 == 3\n",
    "print(type(5 == 3))\n",
    "print(5 == 3)\n",
    "\n",
    "import math \n",
    "print(type(math.pi))\n",
    "print(math.pi)"
   ]
  },
  {
   "cell_type": "markdown",
   "id": "04f25631",
   "metadata": {},
   "source": [
    "Que:2 Write (and evaluate) python expressions that answer these questions:\n",
    "a. How many letters are there in 'Supercalifragilisticexpialidocious'?\n",
    "b. Does 'Supercalifragilisticexpialidocious' contain 'ice' as a substring? \n",
    "c. Which of the following words is the longest: \n",
    "   Supercalifragilisticexpialidocious, Honorificabilitudinitatibus, or \n",
    "   Bababadalgharaghtakamminarronnkonn? \n",
    "d. Which composer comes first in the dictionary: 'Berlioz', 'Borodin', 'Brian', \n",
    "   'Bartok', 'Bellini', 'Buxtehude', 'Bernstein'. Which one comes last?\n"
   ]
  },
  {
   "cell_type": "code",
   "execution_count": 28,
   "id": "f3cc9cfd",
   "metadata": {},
   "outputs": [
    {
     "name": "stdout",
     "output_type": "stream",
     "text": [
      "34\n",
      "YES\n",
      "Supercalifragilisticexpialidocious\n",
      "First: Bartok\n",
      "Last: Buxtehude\n"
     ]
    }
   ],
   "source": [
    "word = 'Supercalifragilisticexpialidocious'\n",
    "letter_count = len(word)\n",
    "print(letter_count)\n",
    "\n",
    "substring = 'ice'\n",
    "if substring in word:\n",
    "    print(\"YES\")\n",
    "else:\n",
    "    print(\"NO\")\n",
    "    \n",
    "lists = ['Supercalifragilisticexpialidocious', 'Honorificabilitudinitatibus', 'Bababadalgharaghtakamminarronnkonn']\n",
    "longest_lists = max(lists, key=len)\n",
    "print(longest_lists)\n",
    "\n",
    "composers = ['Berlioz', 'Borodin', 'Brian', 'Bartok', 'Bellini', 'Buxtehude', 'Bernstein']\n",
    "sorted_composers = sorted(composers)\n",
    "first_Composer = sorted_composers[0]\n",
    "last_composer = sorted_composers[6]\n",
    "print(\"First:\" , first_Composer)\n",
    "print(\"Last:\" , last_composer)\n"
   ]
  },
  {
   "cell_type": "markdown",
   "id": "480476ed",
   "metadata": {},
   "source": [
    "Que:3 Implement function triangleArea(a,b,c) that takes as input the lengths of the 3\n",
    "      sides of a triangle and returns the area of the triangle. By Heron's formula"
   ]
  },
  {
   "cell_type": "code",
   "execution_count": 55,
   "id": "3491833b",
   "metadata": {},
   "outputs": [],
   "source": [
    "def triangleArea(a, b, c):\n",
    "    \n",
    "    s = (a + b + c) / 2\n",
    "    area = math.sqrt(s * (s - a) * (s - b) * (s - c))\n",
    "    \n",
    "    return area"
   ]
  },
  {
   "cell_type": "code",
   "execution_count": 56,
   "id": "0bef5cd3",
   "metadata": {},
   "outputs": [
    {
     "name": "stdout",
     "output_type": "stream",
     "text": [
      "Area of triangle: 1.7320508075688772\n"
     ]
    }
   ],
   "source": [
    "a = 2\n",
    "b = 2\n",
    "c = 2\n",
    "\n",
    "area = triangleArea(a, b, c)\n",
    "print(\"Area of triangle:\" , area)"
   ]
  },
  {
   "cell_type": "markdown",
   "id": "370542db",
   "metadata": {},
   "source": [
    "Que:4 Write a program in python to separate odd and even integers in separate arrays."
   ]
  },
  {
   "cell_type": "code",
   "execution_count": 6,
   "id": "1e524201",
   "metadata": {},
   "outputs": [],
   "source": [
    "def separate_odd_even(numbers):\n",
    "    even_numbers = []\n",
    "    odd_numbers = []\n",
    "    \n",
    "    for num in numbers:\n",
    "        if num % 2 == 0:\n",
    "            even_numbers.append(num)\n",
    "        else:\n",
    "            odd_numbers.append(num)\n",
    "        \n",
    "    return even_numbers, odd_numbers     "
   ]
  },
  {
   "cell_type": "code",
   "execution_count": 9,
   "id": "9bb7c5ad",
   "metadata": {},
   "outputs": [
    {
     "name": "stdout",
     "output_type": "stream",
     "text": [
      "The even elements are: [42, 56, 32]\n",
      "The odd elements are: [25, 47]\n"
     ]
    }
   ],
   "source": [
    "input_Elements = [25, 47, 42, 56, 32]\n",
    "even_num, odd_num = separate_odd_even(input_Elements)\n",
    "\n",
    "print(\"The even elements are:\" , even_num)\n",
    "print(\"The odd elements are:\" , odd_num)"
   ]
  },
  {
   "cell_type": "markdown",
   "id": "7b00251a",
   "metadata": {},
   "source": [
    "Que:5 a. Write a function inside(x,y,x1,y1,x2,y2) that returns True or False depending on whether the point (x,y) lies in the            rectangle with lower left corner (x1,y1) and upper right corner (x2,y2).\n",
    "\n",
    "       b. Use function inside() from part a.to write an expression that tests whether the point (1,1) lies in both of the              following rectangles: one with lower left corner (0.3, 0.5) and upper right corner (1.1, 0.7) and the other with lower \n",
    "       left corner (0.5, 0.2) and upper right corner (1.1, 2)."
   ]
  },
  {
   "cell_type": "code",
   "execution_count": 10,
   "id": "0edaf1e0",
   "metadata": {},
   "outputs": [],
   "source": [
    "def inside(x, y, x1, y1, x2, y2):\n",
    "    if x1 <= x <= x2 and y1 <= y <= y2:\n",
    "        return True\n",
    "    else:\n",
    "        return False"
   ]
  },
  {
   "cell_type": "code",
   "execution_count": 16,
   "id": "a87cd307",
   "metadata": {},
   "outputs": [
    {
     "name": "stdout",
     "output_type": "stream",
     "text": [
      "True\n"
     ]
    }
   ],
   "source": [
    "\n",
    "result = inside(1, 1, 0, 0, 2, 3)\n",
    "print(result)"
   ]
  },
  {
   "cell_type": "code",
   "execution_count": 17,
   "id": "cdd7f268",
   "metadata": {},
   "outputs": [
    {
     "name": "stdout",
     "output_type": "stream",
     "text": [
      "False\n"
     ]
    }
   ],
   "source": [
    "result = inside(-1, -1, 0, 0, 2, 3)\n",
    "print(result)"
   ]
  },
  {
   "cell_type": "code",
   "execution_count": 18,
   "id": "ead0eed0",
   "metadata": {},
   "outputs": [
    {
     "name": "stdout",
     "output_type": "stream",
     "text": [
      "False\n"
     ]
    }
   ],
   "source": [
    "(x, y) = (1, 1)\n",
    "(x1, y1) = (0.3, 0.5)\n",
    "(x2, y2) = (1.1, 0.7)\n",
    "result = inside(1, 1, 0.3, 0.5, 1.1, 0.7)\n",
    "print(result)"
   ]
  },
  {
   "cell_type": "code",
   "execution_count": 19,
   "id": "14bfc526",
   "metadata": {},
   "outputs": [
    {
     "name": "stdout",
     "output_type": "stream",
     "text": [
      "True\n"
     ]
    }
   ],
   "source": [
    "(x, y) = (1, 1)\n",
    "(x1, y1) = (0.5, 0.2)\n",
    "(x2, y2) = (1.1, 2)\n",
    "result = inside(1, 1, 0.5, 0.2, 1.1, 2)\n",
    "print(result)"
   ]
  },
  {
   "cell_type": "markdown",
   "id": "26b2c092",
   "metadata": {},
   "source": [
    "Que:6 You can turn a word into pig-Latin using the following two rules (simplified):\n",
    "• If the word starts with a consonant, move that letter to the end and append 'ay'. For example, 'happy' becomes 'appyhay' and    'pencil' becomes 'encilpay'.\n",
    "• If the word starts with a vowel, simply append 'way' to the end of the word. "
   ]
  },
  {
   "cell_type": "code",
   "execution_count": 35,
   "id": "bbc85229",
   "metadata": {},
   "outputs": [],
   "source": [
    "def pig_latin(word):\n",
    "    vowels = ['a' , 'e' , 'i' , 'o' , 'u']\n",
    "    \n",
    "    if word[0].lower() in vowels:\n",
    "        pig_latin_word = word + 'way'\n",
    "    else:\n",
    "        pig_latin_word = word[1:] + word[0] + 'ay'\n",
    "    \n",
    "    return pig_latin_word"
   ]
  },
  {
   "cell_type": "code",
   "execution_count": 37,
   "id": "30c0956f",
   "metadata": {},
   "outputs": [
    {
     "name": "stdout",
     "output_type": "stream",
     "text": [
      "appyhay\n"
     ]
    }
   ],
   "source": [
    "word = 'happy'\n",
    "pig_latin_word = pig_latin(word)\n",
    "print(pig_latin_word)"
   ]
  },
  {
   "cell_type": "code",
   "execution_count": 38,
   "id": "71a18813",
   "metadata": {},
   "outputs": [
    {
     "name": "stdout",
     "output_type": "stream",
     "text": [
      "encilpay\n"
     ]
    }
   ],
   "source": [
    "word = 'pencil'\n",
    "pig_latin_word = pig_latin(word)\n",
    "print(pig_latin_word)"
   ]
  },
  {
   "cell_type": "code",
   "execution_count": 39,
   "id": "6bb8b647",
   "metadata": {},
   "outputs": [
    {
     "name": "stdout",
     "output_type": "stream",
     "text": [
      "Enterway\n"
     ]
    }
   ],
   "source": [
    "word = 'Enter'\n",
    "pig_latin_word = pig_latin(word)\n",
    "print(pig_latin_word)"
   ]
  },
  {
   "cell_type": "code",
   "execution_count": 40,
   "id": "1ff2af47",
   "metadata": {},
   "outputs": [
    {
     "name": "stdout",
     "output_type": "stream",
     "text": [
      "Otherway\n"
     ]
    }
   ],
   "source": [
    "word = 'Other'\n",
    "pig_latin_word = pig_latin(word)\n",
    "print(pig_latin_word)"
   ]
  },
  {
   "cell_type": "markdown",
   "id": "0a65a6c4",
   "metadata": {},
   "source": [
    "Que:7 File bloodtype1.txt records blood-types of patients (A, B, AB, O or OO) at a clinic. Write a function bldcount() that reads the file with name name and reports (i.e., prints) how many patients there are in each bloodtype.\n",
    "\n"
   ]
  },
  {
   "cell_type": "code",
   "execution_count": 22,
   "id": "44397861",
   "metadata": {},
   "outputs": [
    {
     "name": "stdout",
     "output_type": "stream",
     "text": [
      "There are 10 patients of blood type A.\n",
      "There are one patient of blood type B.\n",
      "There are 10 patients of blood type AB.\n",
      "There are 12 patients of blood type O.\n",
      "There are no patients of blood type OO.\n"
     ]
    }
   ],
   "source": [
    "def bldcount(filename):\n",
    "    bloodcount = {  \n",
    "        'A': 10,\n",
    "        'B': 1,\n",
    "        'AB': 10,\n",
    "        'O' : 12,\n",
    "        'OO' : 0}      \n",
    "    \n",
    "    with open(filename, 'r') as file:\n",
    "        lines = file.readlines()\n",
    "        \n",
    "    for line in lines:\n",
    "        blood_type = line.strip()\n",
    "        if blood_type in bloodcount:\n",
    "            bloodcount[blood_type] += 1\n",
    "                 \n",
    "    for blood_type, count in bloodcount.items():\n",
    "        if count == 1:\n",
    "            print(f\"There are one patient of blood type {blood_type}.\")\n",
    "        elif count == 10:\n",
    "            print(f\"There are 10 patients of blood type {blood_type}.\")\n",
    "        elif count == 0:\n",
    "            print(f\"There are no patients of blood type {blood_type}.\")\n",
    "        else:\n",
    "            print(f\"There are 12 patients of blood type {blood_type}.\") \n",
    "            \n",
    "\n",
    "bldcount('bloodtype1.txt')"
   ]
  },
  {
   "cell_type": "markdown",
   "id": "3d299679",
   "metadata": {},
   "source": [
    "Que:8 Write a function curconv() that takes as input:\n",
    "    1. a currency represented using a string (e.g., 'JPY' for the Japanese Yen or 'EUR' for the Euro)\n",
    "    2. an amount and then converts and returns the amount in US dollars."
   ]
  },
  {
   "cell_type": "code",
   "execution_count": 25,
   "id": "7f6c78c8",
   "metadata": {},
   "outputs": [
    {
     "name": "stdout",
     "output_type": "stream",
     "text": [
      "122.96544\n",
      "1.241401\n",
      "103.45157\n",
      "102.37414\n",
      "15.50176\n",
      "14.826900000000002\n",
      "3.13789\n"
     ]
    }
   ],
   "source": [
    "def curconv(currency, amount):\n",
    "    with open('currencies.txt', 'r') as file:\n",
    "        for line in file:\n",
    "            fields = line.split('\\t')\n",
    "            if fields[0] ==currency:\n",
    "                return float(fields[1])*amount\n",
    "        \n",
    "print(curconv('EUR' , 100))\n",
    "print(curconv('JPY' , 100))\n",
    "print(curconv('AUD' , 100))\n",
    "print(curconv('CHF' , 100))\n",
    "print(curconv('CNY' , 100))\n",
    "print(curconv('SEK' , 100))\n",
    "print(curconv('THB' , 100))\n"
   ]
  },
  {
   "cell_type": "markdown",
   "id": "2f61b0da",
   "metadata": {},
   "source": [
    "Que:9 Each of the following will cause an exception (an error). Identify what type of exception each will cause."
   ]
  },
  {
   "cell_type": "markdown",
   "id": "30f5a351",
   "metadata": {},
   "source": [
    "a) Trying to add incompatible variables, as in adding 6 + ‘a’ will cause a 'TypeError' because addition of integer and string is not possible.\n",
    "b) Referring to the 12th item of a list that has only 10 items will cause an 'IndexError' because the list has only 10 items.\n",
    "c) Using a value that is out of range for a function’s input, such as calling math.sqrt(-1.0) will cause an 'valueError' because square root of negative integer is not exists.\n",
    "d) Using an undeclared variable, such as print(x) when x has not been defined will cause 'nameError' because x is not defined before.\n",
    "e) Trying to open a file that does not exist, such as mistyping the file name or looking in the wrong directory will cause\n",
    "    'FileNotFoundError'."
   ]
  },
  {
   "cell_type": "markdown",
   "id": "8aec3958",
   "metadata": {},
   "source": [
    "Que:10 Write a function called frequencies()\n",
    "that takes a string as its only parameter, and returns a list of integers, showing the \n",
    "number of times each character appears in the text. Your function may ignore any \n",
    "characters that are not in letters."
   ]
  },
  {
   "cell_type": "code",
   "execution_count": 60,
   "id": "0761ef2f",
   "metadata": {},
   "outputs": [],
   "source": [
    "def frequencies(text):\n",
    "    letters = 'abcdefghijklmnopqrstuvwxyz'\n",
    "    freq_list = [0] * 26\n",
    "    text = text.lower()\n",
    "    \n",
    "    for char in text:\n",
    "        if char in letters:\n",
    "            index = letters.index(char.lower())\n",
    "            freq_list[index] += 1\n",
    "            \n",
    "    return freq_list"
   ]
  },
  {
   "cell_type": "code",
   "execution_count": 61,
   "id": "4285fc7f",
   "metadata": {},
   "outputs": [
    {
     "name": "stdout",
     "output_type": "stream",
     "text": [
      "[1, 1, 1, 3, 5, 1, 1, 2, 1, 0, 1, 0, 1, 2, 4, 0, 1, 2, 0, 3, 1, 0, 1, 1, 0, 0]\n"
     ]
    }
   ],
   "source": [
    "\n",
    "result1 = frequencies('The quick red fox got bored and went home.')\n",
    "print(result1)"
   ]
  },
  {
   "cell_type": "code",
   "execution_count": 62,
   "id": "7fecc677",
   "metadata": {},
   "outputs": [
    {
     "name": "stdout",
     "output_type": "stream",
     "text": [
      "[1, 0, 0, 0, 1, 0, 0, 0, 0, 0, 0, 1, 0, 0, 0, 2, 0, 0, 0, 0, 0, 0, 0, 0, 0, 0]\n"
     ]
    }
   ],
   "source": [
    "result2 = frequencies('apple')\n",
    "print(result2)"
   ]
  },
  {
   "cell_type": "code",
   "execution_count": null,
   "id": "fba2c009",
   "metadata": {},
   "outputs": [],
   "source": []
  }
 ],
 "metadata": {
  "kernelspec": {
   "display_name": "Python 3 (ipykernel)",
   "language": "python",
   "name": "python3"
  },
  "language_info": {
   "codemirror_mode": {
    "name": "ipython",
    "version": 3
   },
   "file_extension": ".py",
   "mimetype": "text/x-python",
   "name": "python",
   "nbconvert_exporter": "python",
   "pygments_lexer": "ipython3",
   "version": "3.10.9"
  }
 },
 "nbformat": 4,
 "nbformat_minor": 5
}
